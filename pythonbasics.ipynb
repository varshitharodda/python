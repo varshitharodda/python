{
  "nbformat": 4,
  "nbformat_minor": 0,
  "metadata": {
    "colab": {
      "provenance": [],
      "authorship_tag": "ABX9TyOYMvZAvZYs3393ffVAXqw6",
      "include_colab_link": true
    },
    "kernelspec": {
      "name": "python3",
      "display_name": "Python 3"
    },
    "language_info": {
      "name": "python"
    }
  },
  "cells": [
    {
      "cell_type": "markdown",
      "metadata": {
        "id": "view-in-github",
        "colab_type": "text"
      },
      "source": [
        "<a href=\"https://colab.research.google.com/github/varshitharodda/python/blob/main/pythonbasics.ipynb\" target=\"_parent\"><img src=\"https://colab.research.google.com/assets/colab-badge.svg\" alt=\"Open In Colab\"/></a>"
      ]
    },
    {
      "cell_type": "code",
      "source": [
        "print(10)\n",
        "print(10.2)"
      ],
      "metadata": {
        "colab": {
          "base_uri": "https://localhost:8080/"
        },
        "id": "-O0sYyfVqcql",
        "outputId": "b1d660e8-5d3b-4259-fbef-bbc4aa7d0d64"
      },
      "execution_count": null,
      "outputs": [
        {
          "output_type": "stream",
          "name": "stdout",
          "text": [
            "10\n",
            "10.2\n"
          ]
        }
      ]
    },
    {
      "cell_type": "code",
      "execution_count": null,
      "metadata": {
        "colab": {
          "base_uri": "https://localhost:8080/"
        },
        "id": "Ev285oCxp0QT",
        "outputId": "fe1070f1-0f8c-4c24-cf77-3a914e6d75d9"
      },
      "outputs": [
        {
          "output_type": "stream",
          "name": "stdout",
          "text": [
            "mrce\n",
            "mrce\n"
          ]
        }
      ],
      "source": [
        "print(\"mrce\")\n",
        "print('mrce')"
      ]
    },
    {
      "cell_type": "code",
      "source": [
        "#indentation\n",
        "if 56>7:\n",
        "  print(\"yes\")\n",
        "else:\n",
        "  print(\"no\")\n",
        "\n",
        "if 56:\n",
        "  print(\"yes\")"
      ],
      "metadata": {
        "colab": {
          "base_uri": "https://localhost:8080/"
        },
        "id": "2QVlMm2Pp-q1",
        "outputId": "93bde629-acad-444d-dc4f-f145837882cd"
      },
      "execution_count": null,
      "outputs": [
        {
          "output_type": "stream",
          "name": "stdout",
          "text": [
            "yes\n",
            "yes\n"
          ]
        }
      ]
    },
    {
      "cell_type": "code",
      "source": [
        "#variables\n",
        "a=10\n",
        "print(a)\n",
        "#multiple variables with single value\n",
        "a=b=c=20\n",
        "print(a)\n",
        "#multiple variables with multiple values\n",
        "a,b,c=10,20,30\n",
        "print(a)\n",
        "print(b)\n",
        "print(c)"
      ],
      "metadata": {
        "colab": {
          "base_uri": "https://localhost:8080/"
        },
        "id": "3-qvyX8nqZRs",
        "outputId": "26bce441-ea4a-436b-a33d-46a01eedf000"
      },
      "execution_count": null,
      "outputs": [
        {
          "output_type": "stream",
          "name": "stdout",
          "text": [
            "10\n",
            "20\n",
            "10\n",
            "20\n",
            "30\n"
          ]
        }
      ]
    },
    {
      "cell_type": "code",
      "source": [
        "#identifiers\n",
        "temp=10\n",
        "print(temp)"
      ],
      "metadata": {
        "colab": {
          "base_uri": "https://localhost:8080/"
        },
        "id": "QhEMwuDZrOFm",
        "outputId": "7482ec82-3c43-4d35-e33d-639b20f2ee43"
      },
      "execution_count": null,
      "outputs": [
        {
          "output_type": "stream",
          "name": "stdout",
          "text": [
            "10\n"
          ]
        }
      ]
    },
    {
      "cell_type": "code",
      "source": [
        "#datatypes\n",
        "#list\n",
        "#creating a list\n",
        "a=[10,20,30,40]\n",
        "print(a)\n",
        "#indexing\n",
        "a=[10,20,30,40]\n",
        "print(a[0])\n",
        "#step indexing\n",
        "a=[10,20,30,40]\n",
        "print(a[0:4:2])\n",
        "#slicing\n",
        "a=[10,20,30,40]\n",
        "print(a[0:2])\n",
        "#type function\n",
        "a=[10,20,30,40]\n",
        "print(type(a))\n",
        "#maximum\n",
        "a=[10,20,30,40]\n",
        "print(max(a))\n",
        "#minimum\n",
        "a=[10,20,30,40]\n",
        "print(min(a))\n",
        "#append method\n",
        "a=[10,20,30,40]\n",
        "a.append(50)\n",
        "print(a)\n",
        "#extend method\n",
        "a=[10,20,30,40]\n",
        "a.extend([50,60])\n",
        "print(a)\n",
        "#popcutset\n",
        "a=[10,20,30,40]\n",
        "a.pop(2)\n",
        "print(a)\n",
        "#remove\n",
        "a=[10,20,30,40]\n",
        "a.remove(20)\n",
        "print(a)\n",
        "#adding two lists\n",
        "a=[1,3]\n",
        "b=[5,6]\n",
        "print(a+b)\n",
        "#datatypes\n",
        "#list\n",
        "#creating a list\n",
        "a=[10,20,30,40]\n",
        "print(a)\n",
        "#indexing\n",
        "a=[10,20,30,40]\n",
        "print(a[0])\n",
        "#step indexing\n",
        "a=[10,20,30,40]\n",
        "print(a[0:4:2])\n",
        "#slicing\n",
        "a=[10,20,30,40]\n",
        "print(a[0:2])\n",
        "#type function\n",
        "a=[10,20,30,40]\n",
        "print(type(a))\n",
        "#maximum\n",
        "a=[10,20,30,40]\n",
        "print(max(a))\n",
        "#minimum\n",
        "a=[10,20,30,40]\n",
        "print(min(a))\n",
        "#append method\n",
        "a=[10,20,30,40]\n",
        "a.append(50)\n",
        "print(a)\n",
        "#extend method\n",
        "a=[10,20,30,40]\n",
        "a.extend([50,60])\n",
        "print(a)\n",
        "#popcutset\n",
        "a=[10,20,30,40]\n",
        "a.pop(2)\n",
        "print(a)\n",
        "#remove\n",
        "a=[10,20,30,40]\n",
        "a.remove(20)\n",
        "print(a)\n",
        "#adding two lists\n",
        "a=[1,3]\n",
        "b=[5,6]\n",
        "print(a+b)\n",
        "#for loop\n",
        "a=[3,4,5,6,7]\n",
        "for i in a:\n",
        "  print(i)\n"
      ],
      "metadata": {
        "colab": {
          "base_uri": "https://localhost:8080/"
        },
        "id": "dzo2tQ9ereQu",
        "outputId": "ee43e3ce-5949-4765-ed84-ef9f5e8e8d69"
      },
      "execution_count": null,
      "outputs": [
        {
          "output_type": "stream",
          "name": "stdout",
          "text": [
            "[10, 20, 30, 40]\n",
            "10\n",
            "[10, 30]\n",
            "[10, 20]\n",
            "<class 'list'>\n",
            "40\n",
            "10\n",
            "[10, 20, 30, 40, 50]\n",
            "[10, 20, 30, 40, 50, 60]\n",
            "[10, 20, 40]\n",
            "[10, 30, 40]\n",
            "[1, 3, 5, 6]\n",
            "[10, 20, 30, 40]\n",
            "10\n",
            "[10, 30]\n",
            "[10, 20]\n",
            "<class 'list'>\n",
            "40\n",
            "10\n",
            "[10, 20, 30, 40, 50]\n",
            "[10, 20, 30, 40, 50, 60]\n",
            "[10, 20, 40]\n",
            "[10, 30, 40]\n",
            "[1, 3, 5, 6]\n",
            "3\n",
            "4\n",
            "5\n",
            "6\n",
            "7\n"
          ]
        }
      ]
    },
    {
      "cell_type": "code",
      "source": [
        "#tuple\n",
        "#creating a tuple\n",
        "a=[1,5,7]\n",
        "print(a)\n",
        "#type function\n",
        "print(type(a))\n",
        "#indexing\n",
        "print(a[0])\n",
        "#slicing\n",
        "print(a[0:3])\n",
        "#step indexing\n",
        "print(a[0:3:2])\n",
        "#len function\n",
        "print(len(a))\n",
        "#maxmium\n",
        "print(max(a))\n",
        "#minimum\n",
        "print(min(a))\n",
        "#convertinh of tuple in to list\n",
        "b=(1,5,7)\n",
        "print(b)\n",
        "print(type(b))\n",
        "c=list(b)\n",
        "print(c)\n",
        "print(type(c))\n",
        "#adding two tuples\n",
        "a=(1,2,3,4,5,6)\n",
        "b=(7,8,9,10,11)\n",
        "print(a+b)\n"
      ],
      "metadata": {
        "colab": {
          "base_uri": "https://localhost:8080/"
        },
        "id": "qUAW9AisvuJo",
        "outputId": "cc1cb824-dd40-4b03-82f5-abd57c6be948"
      },
      "execution_count": null,
      "outputs": [
        {
          "output_type": "stream",
          "name": "stdout",
          "text": [
            "[1, 5, 7]\n",
            "<class 'list'>\n",
            "1\n",
            "[1, 5, 7]\n",
            "[1, 7]\n",
            "3\n",
            "7\n",
            "1\n",
            "(1, 5, 7)\n",
            "<class 'tuple'>\n",
            "[1, 5, 7]\n",
            "<class 'list'>\n",
            "(1, 2, 3, 4, 5, 6, 7, 8, 9, 10, 11)\n"
          ]
        }
      ]
    },
    {
      "cell_type": "code",
      "source": [
        "#dictronary\n",
        "#creating dictronary\n",
        "a={1:'a',2:'b',3:'c'}\n",
        "print(a)\n",
        "print(a[1])\n",
        "print(a[2])\n",
        "print(a.keys())\n",
        "print(a.values())\n",
        "print(a.items())\n",
        "#adding two values\n",
        "a={1:'a',2:'b',3:'c'}\n",
        "b={4:'d',5:'e'}\n",
        "a.update(b)\n",
        "print(a)\n",
        "#pop method\n",
        "a={1:'a',2:'b',3:'c'}\n",
        "a.pop(1)\n",
        "print(a)\n",
        "#pop item\n",
        "a={1:'a',2:'b',3:'c'}\n",
        "a.popitem()\n",
        "print(a)\n",
        "#update the value\n",
        "a={1:'a',2:'b',3:'c'}\n",
        "a[1]='d'\n",
        "print(a)\n",
        "#add the data\n",
        "a={1:'a',2:'b',3:'c'}\n",
        "a[4]='d'\n",
        "print(a)"
      ],
      "metadata": {
        "colab": {
          "base_uri": "https://localhost:8080/"
        },
        "id": "d9GCQCaxyT5B",
        "outputId": "185d67e1-233d-47b6-8675-4fdc28477b86"
      },
      "execution_count": null,
      "outputs": [
        {
          "output_type": "stream",
          "name": "stdout",
          "text": [
            "{1: 'a', 2: 'b', 3: 'c'}\n",
            "a\n",
            "b\n",
            "dict_keys([1, 2, 3])\n",
            "dict_values(['a', 'b', 'c'])\n",
            "dict_items([(1, 'a'), (2, 'b'), (3, 'c')])\n",
            "{1: 'a', 2: 'b', 3: 'c', 4: 'd', 5: 'e'}\n",
            "{2: 'b', 3: 'c'}\n",
            "{1: 'a', 2: 'b'}\n",
            "{1: 'd', 2: 'b', 3: 'c'}\n",
            "{1: 'a', 2: 'b', 3: 'c', 4: 'd'}\n"
          ]
        }
      ]
    },
    {
      "cell_type": "code",
      "source": [
        "#string\n",
        "#single line\n",
        "a='mrce'\n",
        "print(a)\n",
        "#multi line\n",
        "a=\"mrce\"\n",
        "print(a)\n",
        "a=\"mrce\"\n",
        "b=\"college\"\n",
        "print(a+b)\n",
        "#indexing\n",
        "print(a[0])\n",
        "#slicing\n",
        "print(a[0:3])\n",
        "#step indexing\n",
        "print(a[0:4:2])\n",
        "#type function\n",
        "print(type(a))\n",
        "#uppper case\n",
        "a=\"mrce college\"\n",
        "a.upper\n",
        "print(a)\n",
        "#lower case\n",
        "a=\"MRCE COLLEGE\"\n",
        "a.lower\n",
        "print(a)\n",
        "#strip method\n",
        "a= \" mrce college\"\n",
        "print(a.strip())\n",
        "#cancatenation\n",
        "a=\"mrce\"\n",
        "b=str(89)\n",
        "print(a+b)\n",
        "#formal method\n",
        "a=\"mrce\"\n",
        "b=\"college\"\n",
        "print(\"welcome to {} {}\".format(a,b))\n",
        "\n"
      ],
      "metadata": {
        "colab": {
          "base_uri": "https://localhost:8080/"
        },
        "id": "BHEG9tGl1Cow",
        "outputId": "20838b26-2ce3-425d-d50d-ec37cff61245"
      },
      "execution_count": null,
      "outputs": [
        {
          "output_type": "stream",
          "name": "stdout",
          "text": [
            "mrce\n",
            "mrce\n",
            "mrcecollege\n",
            "m\n",
            "mrc\n",
            "mc\n",
            "<class 'str'>\n",
            "mrce college\n",
            "MRCE COLLEGE\n",
            "mrce college\n",
            "mrce89\n",
            "welcome to mrce college\n"
          ]
        }
      ]
    },
    {
      "cell_type": "code",
      "source": [
        "#sets\n",
        "#creating a set\n",
        "a={1,2,3,4,5,6,7,8,9}\n",
        "print(a)\n",
        "#type function\n",
        "a={1,2,3,4,5,6,7,8,9}\n",
        "print(type(a))\n",
        "#adding two sets\n",
        "a={1,2,3,4,5,6,7,8,9}\n",
        "b={10,11,12,13,14,15,16,17,18,19}\n",
        "a.update(b)\n",
        "print(a)\n",
        "#pop method\n",
        "a={1,2,3,4,5,6,7,8,9}\n",
        "a.pop()\n",
        "print(a)\n",
        "#remove method\n",
        "a={1,2,3,4,5,6,7,8,9}\n",
        "a.remove(2)\n",
        "print(a)\n",
        "#discard method\n",
        "a={1,2,3,4,5,6,7,8,9}\n",
        "a.discard(2)\n",
        "print(a)"
      ],
      "metadata": {
        "colab": {
          "base_uri": "https://localhost:8080/"
        },
        "id": "QUXjgKEZ64ym",
        "outputId": "7035ea19-aa9d-4d03-f324-44f6c9249a33"
      },
      "execution_count": null,
      "outputs": [
        {
          "output_type": "stream",
          "name": "stdout",
          "text": [
            "{1, 2, 3, 4, 5, 6, 7, 8, 9}\n",
            "<class 'set'>\n",
            "{1, 2, 3, 4, 5, 6, 7, 8, 9, 10, 11, 12, 13, 14, 15, 16, 17, 18, 19}\n",
            "{2, 3, 4, 5, 6, 7, 8, 9}\n",
            "{1, 3, 4, 5, 6, 7, 8, 9}\n",
            "{1, 3, 4, 5, 6, 7, 8, 9}\n"
          ]
        }
      ]
    },
    {
      "cell_type": "code",
      "source": [
        "#numbers\n",
        "a=2+3\n",
        "print(type(a))\n",
        "a=2+3j\n",
        "print(type(a))\n",
        "#isinstance\n",
        "a=9\n",
        "print(isinstance(a,int))\n",
        "a=9.8\n",
        "print(isinstance(a,int))"
      ],
      "metadata": {
        "colab": {
          "base_uri": "https://localhost:8080/"
        },
        "id": "qyTNTagB8IkG",
        "outputId": "75a4b3a3-f080-472d-ac07-7e68b0ee605f"
      },
      "execution_count": null,
      "outputs": [
        {
          "output_type": "stream",
          "name": "stdout",
          "text": [
            "<class 'int'>\n",
            "<class 'complex'>\n",
            "True\n",
            "False\n"
          ]
        }
      ]
    },
    {
      "cell_type": "code",
      "source": [
        "#booleans\n",
        "print(bool(8))\n",
        "print(bool())\n",
        "#booleans\n",
        "print(bool(8))\n",
        "print(bool())\n",
        "print(bool(0))\n",
        "print(bool(True))\n",
        "print(bool([]))"
      ],
      "metadata": {
        "colab": {
          "base_uri": "https://localhost:8080/"
        },
        "id": "R2KS718eVIxX",
        "outputId": "8a50b404-d358-4d29-f8c4-5705013fd712"
      },
      "execution_count": null,
      "outputs": [
        {
          "output_type": "stream",
          "name": "stdout",
          "text": [
            "True\n",
            "False\n",
            "True\n",
            "False\n",
            "False\n",
            "True\n",
            "False\n"
          ]
        }
      ]
    },
    {
      "cell_type": "code",
      "source": [
        "#control flow statements\n",
        "#if\n",
        "num=7\n",
        "if num>5:\n",
        "  print(\"yes\")\n",
        "else:\n",
        "  print(\"no\")\n",
        "\n",
        "num=-7\n",
        "if num>0:\n",
        "  print(\"yes\")\n",
        "else:\n",
        "  print(\"no\")\n",
        "\n",
        "#elif\n",
        "day=3\n",
        "if day==\"monday\":\n",
        "  print(\"today is monday\")\n",
        "elif day==\"tuesday\":\n",
        "  print(\"today is tuesday\")\n",
        "elif day==\"wednesday\":\n",
        "  print(\"today is wednesday\")\n",
        "else:\n",
        "  print(\"ch the crt number\")"
      ],
      "metadata": {
        "id": "lBX-H_UYV2xG"
      },
      "execution_count": null,
      "outputs": []
    },
    {
      "cell_type": "code",
      "source": [
        "#comments\n",
        "#single line comments\n",
        "'''multi line comments'''"
      ],
      "metadata": {
        "id": "5gIZhYKNW4gm"
      },
      "execution_count": null,
      "outputs": []
    },
    {
      "cell_type": "code",
      "source": [
        "#functions\n",
        "def mrce():\n",
        "  print(9+5)\n",
        "#fun calling\n",
        "  mrce()\n",
        "#functions with parameters\n",
        "def mrce(a,b):\n",
        "  print(a+b)\n",
        "#fun calling\n",
        "mrce(9,5)"
      ],
      "metadata": {
        "colab": {
          "base_uri": "https://localhost:8080/"
        },
        "id": "8KQ25pIEXLT5",
        "outputId": "594a9789-126a-4d2b-b416-a6dfdbcb0f63"
      },
      "execution_count": null,
      "outputs": [
        {
          "output_type": "stream",
          "name": "stdout",
          "text": [
            "14\n"
          ]
        }
      ]
    }
  ]
}